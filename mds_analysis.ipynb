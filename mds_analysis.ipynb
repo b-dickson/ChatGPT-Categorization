{
 "cells": [
  {
   "cell_type": "code",
   "execution_count": 83,
   "metadata": {},
   "outputs": [],
   "source": [
    "import pandas as pd\n",
    "from scipy.spatial import procrustes\n",
    "from scipy.linalg import orthogonal_procrustes\n",
    "from scipy.spatial.distance import pdist\n",
    "from sklearn.manifold import MDS\n",
    "import numpy as np"
   ]
  },
  {
   "cell_type": "code",
   "execution_count": 2,
   "metadata": {},
   "outputs": [],
   "source": [
    "similarities = pd.read_csv(\"chatgpt_similarities.csv\")"
   ]
  },
  {
   "cell_type": "code",
   "execution_count": 41,
   "metadata": {},
   "outputs": [],
   "source": [
    "sims = similarities.pivot(index=\"Rock1\", columns=\"Rock2\", values=\"ChatGPT Rating\").fillna(0).to_numpy()\n",
    "sims = np.pad(sims, pad_width=((0, 1), (1, 0)), mode='constant', constant_values=0)\n",
    "sims += np.eye(30, 30) * 9\n",
    "for i in range(30):\n",
    "    for j in range(i+1, 30):\n",
    "        sims[j, i] = sims[i, j]\n",
    "dissims = 9 - sims"
   ]
  },
  {
   "cell_type": "code",
   "execution_count": 44,
   "metadata": {},
   "outputs": [],
   "source": [
    "mds = MDS(n_components=8, metric=False, n_init=10, dissimilarity='precomputed', normalized_stress=True)\n",
    "mds_solution = mds.fit_transform(dissims)"
   ]
  },
  {
   "cell_type": "code",
   "execution_count": 46,
   "metadata": {},
   "outputs": [
    {
     "data": {
      "text/plain": [
       "0.12634040695282794"
      ]
     },
     "execution_count": 46,
     "metadata": {},
     "output_type": "execute_result"
    }
   ],
   "source": [
    "mds.stress_"
   ]
  },
  {
   "cell_type": "code",
   "execution_count": 75,
   "metadata": {},
   "outputs": [],
   "source": [
    "ratings = pd.read_csv(\"chatgpt_ratings.csv\")\n",
    "ratings = ratings.pivot(index=\"Rock\", columns=\"Dimension\", values=\"ChatGPT Rating\").to_numpy()\n",
    "ratings = np.pad(ratings, pad_width=((0, 0), (0, 2)), mode='constant', constant_values=0)\n"
   ]
  },
  {
   "cell_type": "code",
   "execution_count": 87,
   "metadata": {},
   "outputs": [],
   "source": [
    "mtx1 = np.array(ratings, dtype=np.float64, copy=True)\n",
    "mtx2 = np.array(mds_solution, dtype=np.float64, copy=True)\n",
    "\n",
    "# translate all the data to the origin\n",
    "mtx1 -= np.mean(mtx1, 0)\n",
    "mtx2 -= np.mean(mtx2, 0)\n",
    "\n",
    "norm1 = np.linalg.norm(mtx1)\n",
    "norm2 = np.linalg.norm(mtx2)\n",
    "\n",
    "# change scaling of data (in rows) such that trace(mtx*mtx') = 1\n",
    "mtx1 /= norm1\n",
    "mtx2 /= norm2\n",
    "\n",
    "# transform mtx2 to minimize disparity\n",
    "R, s = orthogonal_procrustes(mtx1, mtx2)\n",
    "mtx2 = np.dot(mtx2, R.T)\n",
    "\n",
    "mtx2 *= norm2"
   ]
  },
  {
   "cell_type": "code",
   "execution_count": null,
   "metadata": {},
   "outputs": [],
   "source": []
  }
 ],
 "metadata": {
  "kernelspec": {
   "display_name": "openai",
   "language": "python",
   "name": "python3"
  },
  "language_info": {
   "codemirror_mode": {
    "name": "ipython",
    "version": 3
   },
   "file_extension": ".py",
   "mimetype": "text/x-python",
   "name": "python",
   "nbconvert_exporter": "python",
   "pygments_lexer": "ipython3",
   "version": "3.10.11"
  }
 },
 "nbformat": 4,
 "nbformat_minor": 2
}
