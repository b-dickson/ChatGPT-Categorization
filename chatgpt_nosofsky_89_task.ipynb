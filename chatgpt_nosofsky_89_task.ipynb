{
 "cells": [
  {
   "cell_type": "code",
   "execution_count": 24,
   "metadata": {},
   "outputs": [],
   "source": [
    "import numpy as np\n",
    "\n",
    "stimuli = np.array([\n",
    "    [.312, -.241],\n",
    "    [.918, -.264],\n",
    "    [1.405, -.187],\n",
    "    [2.062, -.227],\n",
    "    [.228, .640],\n",
    "    [.844, .662],\n",
    "    [1.324, .687],\n",
    "    [1.885, .623],\n",
    "    [.374, 1.555],\n",
    "    [.916, 1.501],\n",
    "    [1.473, 1.544],\n",
    "    [2.128, 1.520],\n",
    "    [.135, 2.352],\n",
    "    [.889, 2.412],\n",
    "    [1.451, 2.493],\n",
    "    [2.061, 2.382],\n",
    "])\n",
    "\n",
    "size = [[2, 5, 7, 8], [11, 12, 14]]\n",
    "angle = [[2, 6, 9], [3, 7, 12, 15]]\n",
    "criss_cross = [[4, 7, 10, 13], [1, 2, 15, 16]]\n",
    "diagonal = [[2, 3, 7, 12], [5, 10, 14, 15]]\n",
    "\n",
    "conditions = [size, angle, criss_cross, diagonal]"
   ]
  },
  {
   "cell_type": "code",
   "execution_count": 55,
   "metadata": {},
   "outputs": [],
   "source": [
    "def stringify(stimulus):\n",
    "    return f\"({stimulus[0]: .1f}, {stimulus[1]: .1f})\"\n",
    "\n",
    "def stringify_list(stimuli_list):\n",
    "    return '\\n'.join([stringify(stimulus) for stimulus in stimuli_list])\n",
    "\n",
    "def gen_user_prompt(cond, stim):\n",
    "    user_prompt = f\"\"\"\\\n",
    "You are trying to classify stimuli into category A or category B.\n",
    "The stimuli vary along 2 parameters.\n",
    "\n",
    "You know that the following stimuli belong to category A:\n",
    "{stringify_list([stimuli[stim_id-1] for stim_id in cond[0]])}\n",
    "\n",
    "You know that the following stimuli belong to category B:\n",
    "{stringify_list([stimuli[stim_id-1] for stim_id in cond[1]])}\n",
    "\n",
    "What do you think the category of the stimulus {stringify(stim)} would be?\n",
    "\n",
    "First decide how similar this stimulus is to each of the examples from both categories.\n",
    "Then use these similarities to guess which category the stimulus is more likely to belong to.\n",
    "\n",
    "Format your response as a JSON object where the keys are \"similaritiesA\", \"similaritiesB\", and \"category\". \n",
    "\"similaritiesA\" should be formatted as a list of integers, where each entry is an integer from 1-9, indicating\n",
    "how similar the stimulus is to each example of category A, in the same order as above. Use 1 to indicate most\n",
    "disimilar and 9 to indicate most similar. \n",
    "\"similaritiesB\" should be formatted the same way as \"similaritiesA\", but should indicate how similar the stimulus\n",
    "is to the examples of category B.\n",
    "\"category\" should be either \"A\" or \"B\" to indicate which category you think the stimulus belongs to.\n",
    "\n",
    "Only respond with the JSON object. Do not include anything else in your response.\n",
    "    \"\"\"\n",
    "    return user_prompt"
   ]
  },
  {
   "cell_type": "code",
   "execution_count": 49,
   "metadata": {},
   "outputs": [
    {
     "name": "stdout",
     "output_type": "stream",
     "text": [
      "You are trying to classify stimuli into category A or category B.\n",
      "The stimuli vary along 2 parameters.\n",
      "\n",
      "You know that the following stimuli belong to category A:\n",
      "( 0.9, -0.3)\n",
      "( 0.2,  0.6)\n",
      "( 1.3,  0.7)\n",
      "( 1.9,  0.6)\n",
      "\n",
      "You know that the following stimuli belong to category B:\n",
      "( 1.5,  1.5)\n",
      "( 2.1,  1.5)\n",
      "( 0.9,  2.4)\n",
      "\n",
      "What do you think the category of the stimulus ( 0.3, -0.2) would be?\n",
      "First decide how similar this stimulus is to each of the examples from both categories.\n",
      "Then use these similarities to guess which category the stimulus is more likely to belong to.\n",
      "Format your response as a JSON object where the keys are \"similaritiesA\", \"similaritiesB\", and \"category\". \n",
      "\"similaritiesA\" should be formatted as a list of integers, where each entry is an integer from 1-9, indicating\n",
      "how similar the stimulus is to each example of category A, in the same order as above. Use 1 to indicate most\n",
      "disimilar and 9 to indicate most similar. \n",
      "\"similaritiesB\" should be formatted the same way as \"similaritiesA\", but should indicate how similar the stimulus\n",
      "is to the examples of category B.\n",
      "\"category\" should be either \"A\" or \"B\" to indicate which category you think the stimulus belongs to.\n",
      "    \n"
     ]
    }
   ],
   "source": [
    "print(gen_user_prompt(size, stimuli[0]))"
   ]
  },
  {
   "cell_type": "code",
   "execution_count": 88,
   "metadata": {},
   "outputs": [],
   "source": [
    "import openai\n",
    "from tenacity import (\n",
    "    retry,\n",
    "    stop_after_attempt,\n",
    "    wait_random_exponential,\n",
    ")\n",
    "\n",
    "MODEL = \"gpt-3.5-turbo\"\n",
    "with open(\"openai_key.txt\") as openai_key:\n",
    "    openai.api_key = openai_key.read()\n",
    "\n",
    "@retry(wait=wait_random_exponential(min=1, max=120), stop=stop_after_attempt(6))\n",
    "def completion_with_backoff(**kwargs):\n",
    "    return openai.ChatCompletion.create(**kwargs)\n",
    "\n",
    "\n",
    "def get_categorization(cond, stim):\n",
    "    system_prompt = \"\"\"\\\n",
    "You are a participant in a category learning experiment. \n",
    "You try your best to categorize stimuli correctly based on the information given.\n",
    "\"\"\"\n",
    "    user_prompt = gen_user_prompt(cond, stim)\n",
    "    messages = [\n",
    "        {\"role\": \"system\", \"content\": system_prompt},\n",
    "        {\"role\": \"user\", \"content\": user_prompt},\n",
    "    ]\n",
    "\n",
    "    response = completion_with_backoff(\n",
    "            model=MODEL,\n",
    "            messages=messages,\n",
    "            temperature=1,\n",
    "            n=50,\n",
    "    )\n",
    "\n",
    "    return response"
   ]
  },
  {
   "cell_type": "code",
   "execution_count": 72,
   "metadata": {},
   "outputs": [],
   "source": [
    "response = get_categorization(size, stimuli[0])"
   ]
  },
  {
   "cell_type": "code",
   "execution_count": 83,
   "metadata": {},
   "outputs": [],
   "source": [
    "import json\n",
    "from collections import Counter\n",
    "\n",
    "def get_probability(response):\n",
    "    counter = Counter()\n",
    "    for choice in response.choices:\n",
    "        try:\n",
    "            content = json.loads(choice.message.content)\n",
    "        except:\n",
    "            continue\n",
    "        counter[content['category']] += 1\n",
    "    probA = counter['A'] / (counter['A'] + counter['B'])\n",
    "    return probA"
   ]
  },
  {
   "cell_type": "code",
   "execution_count": 89,
   "metadata": {},
   "outputs": [],
   "source": [
    "responses = []\n",
    "for cond in conditions:\n",
    "    cond_responses = []\n",
    "    for stim in stimuli:\n",
    "        response = get_categorization(cond, stim)\n",
    "        cond_responses.append(response)\n",
    "    responses.append(cond_responses)\n"
   ]
  },
  {
   "cell_type": "code",
   "execution_count": 97,
   "metadata": {},
   "outputs": [],
   "source": [
    "cat_responses = [[get_probability(response) for response in cond] for cond in responses]"
   ]
  },
  {
   "cell_type": "code",
   "execution_count": 94,
   "metadata": {},
   "outputs": [
    {
     "name": "stdout",
     "output_type": "stream",
     "text": [
      "[[0.74, 1.0, 0.94, 0.46938775510204084, 1.0, 0.92, 1.0, 1.0, 0.04, 0.9, 0.38, 0.2916666666666667, 0.02, 0.2, 0.14, 0.12], [0.02, 1.0, 0.0, 0.0, 0.16, 0.98, 0.76, 0.08, 0.8979591836734694, 0.02, 0.02, 0.0, 0.0, 0.0, 0.0, 0.0], [0.0, 0.02, 0.64, 1.0, 0.92, 1.0, 1.0, 0.9791666666666666, 0.7959183673469388, 1.0, 0.54, 0.52, 1.0, 0.36, 0.02040816326530612, 0.1], [0.02040816326530612, 1.0, 1.0, 0.9583333333333334, 0.0, 0.7, 0.9183673469387755, 0.88, 0.061224489795918366, 0.5918367346938775, 0.6938775510204082, 0.98, 0.0, 0.0, 0.0, 0.20833333333333334]]\n"
     ]
    }
   ],
   "source": [
    "print(cat_probs)"
   ]
  },
  {
   "cell_type": "code",
   "execution_count": 101,
   "metadata": {},
   "outputs": [],
   "source": [
    "def pprint_responses(resp):\n",
    "    out = f\"\"\"\\\n",
    "{resp[12]:.2f} {resp[13]:.2f} {resp[14]:.2f} {resp[15]:.2f}\n",
    "{resp[8]:.2f} {resp[9]:.2f} {resp[10]:.2f} {resp[11]:.2f}\n",
    "{resp[4]:.2f} {resp[5]:.2f} {resp[6]:.2f} {resp[7]:.2f}\n",
    "{resp[0]:.2f} {resp[1]:.2f} {resp[2]:.2f} {resp[3]:.2f}\n",
    "    \"\"\"\n",
    "    print(out)"
   ]
  },
  {
   "cell_type": "code",
   "execution_count": 102,
   "metadata": {},
   "outputs": [
    {
     "name": "stdout",
     "output_type": "stream",
     "text": [
      "size\n",
      "0.02 0.20 0.14 0.12\n",
      "0.04 0.90 0.38 0.29\n",
      "1.00 0.92 1.00 1.00\n",
      "0.74 1.00 0.94 0.47\n",
      "    \n"
     ]
    }
   ],
   "source": [
    "print('size')\n",
    "pprint_responses(cat_responses[0])"
   ]
  },
  {
   "cell_type": "code",
   "execution_count": 103,
   "metadata": {},
   "outputs": [
    {
     "name": "stdout",
     "output_type": "stream",
     "text": [
      "angle\n",
      "0.00 0.00 0.00 0.00\n",
      "0.90 0.02 0.02 0.00\n",
      "0.16 0.98 0.76 0.08\n",
      "0.02 1.00 0.00 0.00\n",
      "    \n"
     ]
    }
   ],
   "source": [
    "print('angle')\n",
    "pprint_responses(cat_responses[1])"
   ]
  },
  {
   "cell_type": "code",
   "execution_count": 104,
   "metadata": {},
   "outputs": [
    {
     "name": "stdout",
     "output_type": "stream",
     "text": [
      "criss cross\n",
      "1.00 0.36 0.02 0.10\n",
      "0.80 1.00 0.54 0.52\n",
      "0.92 1.00 1.00 0.98\n",
      "0.00 0.02 0.64 1.00\n",
      "    \n"
     ]
    }
   ],
   "source": [
    "print('criss cross')\n",
    "pprint_responses(cat_responses[2])"
   ]
  },
  {
   "cell_type": "code",
   "execution_count": 105,
   "metadata": {},
   "outputs": [
    {
     "name": "stdout",
     "output_type": "stream",
     "text": [
      "diagonal\n",
      "0.00 0.00 0.00 0.21\n",
      "0.06 0.59 0.69 0.98\n",
      "0.00 0.70 0.92 0.88\n",
      "0.02 1.00 1.00 0.96\n",
      "    \n"
     ]
    }
   ],
   "source": [
    "print('diagonal')\n",
    "pprint_responses(cat_responses[3])"
   ]
  },
  {
   "cell_type": "code",
   "execution_count": null,
   "metadata": {},
   "outputs": [],
   "source": []
  }
 ],
 "metadata": {
  "kernelspec": {
   "display_name": "base",
   "language": "python",
   "name": "python3"
  },
  "language_info": {
   "codemirror_mode": {
    "name": "ipython",
    "version": 3
   },
   "file_extension": ".py",
   "mimetype": "text/x-python",
   "name": "python",
   "nbconvert_exporter": "python",
   "pygments_lexer": "ipython3",
   "version": "3.10.9"
  },
  "orig_nbformat": 4
 },
 "nbformat": 4,
 "nbformat_minor": 2
}
