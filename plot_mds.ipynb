{
 "cells": [
  {
   "cell_type": "code",
   "execution_count": null,
   "id": "7ec8acc4",
   "metadata": {},
   "outputs": [],
   "source": [
    "import matplotlib.pyplot as plt\n",
    "from matplotlib.offsetbox import OffsetImage, AnnotationBbox\n",
    "from pathlib import Path\n",
    "import numpy as np\n",
    "import os\n",
    "\n",
    "\n",
    "def plot_images(\n",
    "    img_dir,\n",
    "    x,\n",
    "    y,\n",
    "    xlabel,\n",
    "    ylabel,\n",
    "    img_scale=0.2,\n",
    "    fig_size=36,\n",
    "    file_format=\".png\",\n",
    "    correlate=False,\n",
    "    save_file=None,\n",
    "):\n",
    "    fig = plt.figure(figsize=(fig_size, fig_size))\n",
    "    ax = fig.add_subplot(1, 1, 1)\n",
    "    sorted_files = sorted(Path(img_dir).rglob(\"*.png\"))\n",
    "    for i, file in enumerate(sorted_files):\n",
    "        image = plt.imread(file)\n",
    "        im = OffsetImage(image, zoom=img_scale)\n",
    "        x0 = x[i]\n",
    "        y0 = y[i]\n",
    "        artists = []\n",
    "        ab = AnnotationBbox(im, (x0, y0), xycoords=\"data\", frameon=False)\n",
    "        artists.append(ax.add_artist(ab))\n",
    "        ax.update_datalim(np.column_stack([x0, y0]))\n",
    "        ax.autoscale()\n",
    "    for spine in ax.spines.values():\n",
    "        spine.set_visible(False)\n",
    "    if correlate:\n",
    "        plt.plot(plt.ylim(), plt.ylim(), color=\"black\", linestyle=\"--\", linewidth=4)\n",
    "        corr = np.corrcoef(x, y)[0, 1]\n",
    "        ax.annotate(\"r = {}\".format(round(corr, 2)), xy=(max(x), min(y)), size=50)\n",
    "    plt.xlabel(xlabel, fontsize=fig_size)\n",
    "    plt.ylabel(ylabel, fontsize=fig_size)\n",
    "    plt.tick_params(labelsize=fig_size / 2)\n",
    "    if save_file is not None:\n",
    "        plt.savefig(save_file)\n",
    "    plt.close()"
   ]
  },
  {
   "cell_type": "code",
   "execution_count": 2,
   "id": "c3b97b2b",
   "metadata": {},
   "outputs": [],
   "source": [
    "rocks_path = \"data\\\\Rocks Library\\\\360 Rocks\"\n",
    "figs_path = \"output\\\\mds plots\\\\\""
   ]
  },
  {
   "cell_type": "code",
   "execution_count": 3,
   "id": "ab9ce1c9",
   "metadata": {},
   "outputs": [
    {
     "name": "stdout",
     "output_type": "stream",
     "text": [
      "rotated_baseline_10d_onto_humanmds8\n",
      "rotated_baseline_8d_onto_humanmds7\n",
      "rotated_baseline_8d_onto_humanmds8\n",
      "rotated_baseline_8d_onto_norm7\n",
      "rotated_encourage_10d_onto_humanmds8\n",
      "rotated_encourage_8d_onto_humanmds7\n",
      "rotated_encourage_8d_onto_humanmds8\n",
      "rotated_encourage_8d_onto_norm7\n"
     ]
    }
   ],
   "source": [
    "mds_solutions_path = Path(\"data/MDS Solutions\")\n",
    "text_files = sorted(mds_solutions_path.glob(\"*.txt\"))\n",
    "for txt_file in text_files:\n",
    "    print(txt_file.stem)"
   ]
  },
  {
   "cell_type": "code",
   "execution_count": 4,
   "id": "46cca68b",
   "metadata": {},
   "outputs": [
    {
     "name": "stdout",
     "output_type": "stream",
     "text": [
      "Plotting MDS dimensions 1 and 2\n",
      "Plotting MDS dimensions 3 and 4\n",
      "Plotting MDS dimensions 5 and 6\n",
      "Plotting MDS dimensions 7 and 8\n",
      "Plotting MDS dimensions 9 and 10\n"
     ]
    }
   ],
   "source": [
    "f = Path(\"rotated_baseline_10d_onto_humanmds8.txt\")\n",
    "mds = np.loadtxt(mds_solutions_path / f)\n",
    "os.makedirs(figs_path + txt_file.stem, exist_ok=True)\n",
    "\n",
    "for i in range(0, mds.shape[1] - 1, 2):\n",
    "    print(f\"Plotting MDS dimensions {i + 1} and {i + 2}\")\n",
    "    plot_images(\n",
    "        rocks_path,\n",
    "        mds[:, i],\n",
    "        mds[:, i + 1],\n",
    "        f\"Dim {i + 1}\",\n",
    "        f\"Dim {i + 2}\",\n",
    "        img_scale=0.1,\n",
    "        save_file=f\"{figs_path + txt_file.stem}/{txt_file.stem}-{i + 1}x{i + 2}.pdf\",\n",
    "    )"
   ]
  },
  {
   "cell_type": "code",
   "execution_count": null,
   "id": "f62a4d2e",
   "metadata": {},
   "outputs": [],
   "source": []
  }
 ],
 "metadata": {
  "kernelspec": {
   "display_name": ".venv",
   "language": "python",
   "name": "python3"
  },
  "language_info": {
   "codemirror_mode": {
    "name": "ipython",
    "version": 3
   },
   "file_extension": ".py",
   "mimetype": "text/x-python",
   "name": "python",
   "nbconvert_exporter": "python",
   "pygments_lexer": "ipython3",
   "version": "3.13.2"
  }
 },
 "nbformat": 4,
 "nbformat_minor": 5
}
