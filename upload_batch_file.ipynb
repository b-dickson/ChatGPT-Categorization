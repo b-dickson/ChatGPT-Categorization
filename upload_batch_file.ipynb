{
 "cells": [
  {
   "cell_type": "code",
   "execution_count": null,
   "id": "789bdd01",
   "metadata": {},
   "outputs": [
    {
     "data": {
      "text/plain": [
       "Batch(id='batch_6826405bece881909c49c666d3bc75e0', completion_window='24h', created_at=1747337307, endpoint='/v1/chat/completions', input_file_id='file-33z1SfQtPjEnwcYqRpjdaz', object='batch', status='validating', cancelled_at=None, cancelling_at=None, completed_at=None, error_file_id=None, errors=None, expired_at=None, expires_at=1747423707, failed_at=None, finalizing_at=None, in_progress_at=None, metadata={'description': 'nightly eval job'}, output_file_id=None, request_counts=BatchRequestCounts(completed=0, failed=0, total=0))"
      ]
     },
     "execution_count": 1,
     "metadata": {},
     "output_type": "execute_result"
    }
   ],
   "source": [
    "import openai\n",
    "import glob\n",
    "\n",
    "client = openai.OpenAI()\n",
    "\n",
    "batch_files = glob.glob(\"batch_files/batch_requests_*.jsonl\")\n",
    "batch_ids = []\n",
    "\n",
    "for batch_file in batch_files:\n",
    "    with open(batch_file, \"rb\") as f:\n",
    "        batch_input_file = client.files.create(file=f, purpose=\"batch\")\n",
    "        batch_input_file_id = batch_input_file.id\n",
    "        batch = client.batches.create(\n",
    "            input_file_id=batch_input_file_id,\n",
    "            endpoint=\"/v1/chat/completions\",\n",
    "            completion_window=\"24h\",\n",
    "            metadata={\"description\": \"nightly eval job\"}\n",
    "        )\n",
    "        batch_ids.append(batch.id)"
   ]
  },
  {
   "cell_type": "code",
   "execution_count": null,
   "id": "8dde919c",
   "metadata": {},
   "outputs": [
    {
     "name": "stdout",
     "output_type": "stream",
     "text": [
      "Batch(id='batch_6826405bece881909c49c666d3bc75e0', completion_window='24h', created_at=1747337307, endpoint='/v1/chat/completions', input_file_id='file-33z1SfQtPjEnwcYqRpjdaz', object='batch', status='completed', cancelled_at=None, cancelling_at=None, completed_at=1747337613, error_file_id=None, errors=None, expired_at=None, expires_at=1747423707, failed_at=None, finalizing_at=1747337610, in_progress_at=1747337310, metadata={'description': 'nightly eval job'}, output_file_id='file-Pikj8giM9fbMYEhrnvcCVs', request_counts=BatchRequestCounts(completed=20, failed=0, total=20))\n"
     ]
    }
   ],
   "source": [
    "# Retrieve all batch statuses\n",
    "for batch_id in batch_ids:\n",
    "    batch = client.batches.retrieve(batch_id)\n",
    "    print(f\"Batch ID: {batch.id}, Created: {batch.created_at}, Status: {batch.status}\")"
   ]
  },
  {
   "cell_type": "code",
   "execution_count": null,
   "id": "2be139be",
   "metadata": {},
   "outputs": [],
   "source": [
    "# Download all batch outputs\n",
    "for batch_id in batch_ids:\n",
    "    batch = client.batches.retrieve(batch_id)\n",
    "    file_response = client.files.content(batch.output_file_id)\n",
    "    output_file = f\"batch_output_{batch_id}.jsonl\"\n",
    "    with open(output_file, \"w\") as f:\n",
    "        f.write(file_response.text)"
   ]
  },
  {
   "cell_type": "code",
   "execution_count": null,
   "id": "7edc4ba1",
   "metadata": {},
   "outputs": [],
   "source": []
  },
  {
   "cell_type": "code",
   "execution_count": null,
   "id": "677e8c53",
   "metadata": {},
   "outputs": [],
   "source": []
  }
 ],
 "metadata": {
  "kernelspec": {
   "display_name": ".venv",
   "language": "python",
   "name": "python3"
  },
  "language_info": {
   "codemirror_mode": {
    "name": "ipython",
    "version": 3
   },
   "file_extension": ".py",
   "mimetype": "text/x-python",
   "name": "python",
   "nbconvert_exporter": "python",
   "pygments_lexer": "ipython3",
   "version": "3.13.2"
  }
 },
 "nbformat": 4,
 "nbformat_minor": 5
}
