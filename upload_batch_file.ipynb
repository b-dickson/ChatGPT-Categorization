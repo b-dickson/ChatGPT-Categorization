{
 "cells": [
  {
   "cell_type": "code",
   "execution_count": null,
   "id": "789bdd01",
   "metadata": {},
   "outputs": [
    {
     "data": {
      "text/plain": [
       "Batch(id='batch_6826405bece881909c49c666d3bc75e0', completion_window='24h', created_at=1747337307, endpoint='/v1/chat/completions', input_file_id='file-33z1SfQtPjEnwcYqRpjdaz', object='batch', status='validating', cancelled_at=None, cancelling_at=None, completed_at=None, error_file_id=None, errors=None, expired_at=None, expires_at=1747423707, failed_at=None, finalizing_at=None, in_progress_at=None, metadata={'description': 'nightly eval job'}, output_file_id=None, request_counts=BatchRequestCounts(completed=0, failed=0, total=0))"
      ]
     },
     "execution_count": 1,
     "metadata": {},
     "output_type": "execute_result"
    }
   ],
   "source": [
    "import openai\n",
    "\n",
    "client = openai.OpenAI()\n",
    "\n",
    "batch_input_file = client.files.create(\n",
    "    file=open(\"batch_requests.jsonl\", \"rb\"),\n",
    "    purpose=\"batch\"\n",
    ")\n",
    "\n",
    "batch_input_file_id = batch_input_file.id\n",
    "client.batches.create(\n",
    "    input_file_id=batch_input_file_id,\n",
    "    endpoint=\"/v1/chat/completions\",\n",
    "    completion_window=\"24h\",\n",
    "    metadata={\n",
    "        \"description\": \"nightly eval job\"\n",
    "    }\n",
    ")"
   ]
  },
  {
   "cell_type": "code",
   "execution_count": 5,
   "id": "8dde919c",
   "metadata": {},
   "outputs": [
    {
     "name": "stdout",
     "output_type": "stream",
     "text": [
      "Batch(id='batch_6826405bece881909c49c666d3bc75e0', completion_window='24h', created_at=1747337307, endpoint='/v1/chat/completions', input_file_id='file-33z1SfQtPjEnwcYqRpjdaz', object='batch', status='completed', cancelled_at=None, cancelling_at=None, completed_at=1747337613, error_file_id=None, errors=None, expired_at=None, expires_at=1747423707, failed_at=None, finalizing_at=1747337610, in_progress_at=1747337310, metadata={'description': 'nightly eval job'}, output_file_id='file-Pikj8giM9fbMYEhrnvcCVs', request_counts=BatchRequestCounts(completed=20, failed=0, total=20))\n"
     ]
    }
   ],
   "source": [
    "batch = client.batches.retrieve(\"batch_6826405bece881909c49c666d3bc75e0\")\n",
    "print(batch)"
   ]
  },
  {
   "cell_type": "code",
   "execution_count": 6,
   "id": "50d01836",
   "metadata": {},
   "outputs": [
    {
     "data": {
      "text/plain": [
       "'file-Pikj8giM9fbMYEhrnvcCVs'"
      ]
     },
     "execution_count": 6,
     "metadata": {},
     "output_type": "execute_result"
    }
   ],
   "source": [
    "batch.output_file_id"
   ]
  },
  {
   "cell_type": "code",
   "execution_count": 7,
   "id": "2be139be",
   "metadata": {},
   "outputs": [],
   "source": [
    "file_response = client.files.content(batch.output_file_id)"
   ]
  },
  {
   "cell_type": "code",
   "execution_count": 10,
   "id": "7edc4ba1",
   "metadata": {},
   "outputs": [],
   "source": [
    "with open(\"batch_output.jsonl\", \"w\") as f:\n",
    "    f.write(file_response.text)"
   ]
  },
  {
   "cell_type": "code",
   "execution_count": null,
   "id": "677e8c53",
   "metadata": {},
   "outputs": [],
   "source": []
  }
 ],
 "metadata": {
  "kernelspec": {
   "display_name": ".venv",
   "language": "python",
   "name": "python3"
  },
  "language_info": {
   "codemirror_mode": {
    "name": "ipython",
    "version": 3
   },
   "file_extension": ".py",
   "mimetype": "text/x-python",
   "name": "python",
   "nbconvert_exporter": "python",
   "pygments_lexer": "ipython3",
   "version": "3.13.2"
  }
 },
 "nbformat": 4,
 "nbformat_minor": 5
}
